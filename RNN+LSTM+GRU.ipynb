{
  "nbformat": 4,
  "nbformat_minor": 0,
  "metadata": {
    "colab": {
      "provenance": [],
      "authorship_tag": "ABX9TyMY3GF3FVH8nRD6FgU3x/eB"
    },
    "kernelspec": {
      "name": "python3",
      "display_name": "Python 3"
    },
    "language_info": {
      "name": "python"
    }
  },
  "cells": [
    {
      "cell_type": "markdown",
      "source": [
        "#RNN\n",
        "- Recurrent Neural Network, 순환신경망"
      ],
      "metadata": {
        "id": "595KpmlYWM7c"
      }
    },
    {
      "cell_type": "code",
      "execution_count": 3,
      "metadata": {
        "id": "tc8iBKGKQaDG"
      },
      "outputs": [],
      "source": [
        "import numpy as np\n",
        "import torch\n",
        "import torch.nn as nn\n",
        "import torch.optim as optim"
      ]
    },
    {
      "cell_type": "code",
      "source": [
        "sentences=[\"I like dog\", \"I like coffee\", \"I hate milk\", \"you like cat\", \"you love milk\", \"you hate coffee\"]\n",
        "dtype=torch.float\n",
        "sentences"
      ],
      "metadata": {
        "colab": {
          "base_uri": "https://localhost:8080/"
        },
        "id": "Sfk6BXv_QwRV",
        "outputId": "30647e16-7116-4ac9-fd1f-6720402c4f12"
      },
      "execution_count": 4,
      "outputs": [
        {
          "output_type": "execute_result",
          "data": {
            "text/plain": [
              "['I like dog',\n",
              " 'I like coffee',\n",
              " 'I hate milk',\n",
              " 'you like cat',\n",
              " 'you love milk',\n",
              " 'you hate coffee']"
            ]
          },
          "metadata": {},
          "execution_count": 4
        }
      ]
    },
    {
      "cell_type": "code",
      "source": [
        "word_list=list(set(\" \".join(sentences).split()))\n",
        "word_dict={w: i for i, w in enumerate(word_list)}\n",
        "number_dict={i: w for i, w in enumerate(word_list)}\n",
        "n_class=len(word_dict)"
      ],
      "metadata": {
        "id": "S2BTYuvjRIYF"
      },
      "execution_count": 6,
      "outputs": []
    },
    {
      "cell_type": "code",
      "source": [
        "batch_size=len(sentences)\n",
        "n_step=2  #학습하고자 하는 문장의 길이 -1\n",
        "n_hidden=5  #은닉층 사이즈"
      ],
      "metadata": {
        "id": "hic6qCfzTFup"
      },
      "execution_count": 8,
      "outputs": []
    },
    {
      "cell_type": "code",
      "source": [
        "def make_batch(sentences):\n",
        "  input_batch=[]\n",
        "  target_batch=[]\n",
        "\n",
        "  for sen in sentences:\n",
        "    word=sen.split()\n",
        "    input=[word_dict[n] for n in word[:-1]]\n",
        "    target=word_dict[word[-1]]\n",
        "\n",
        "    input_batch.append(np.eye(n_class)[input])  #one-hot Encoding\n",
        "    target_batch.append(target)\n",
        "\n",
        "  return input_batch, target_batch\n",
        "\n",
        "input_batch, target_batch=make_batch(sentences)\n",
        "input_batch=torch.tensor(input_batch, dtype=torch.float32, requires_grad=True)\n",
        "target_batch=torch.tensor(target_batch, dtype=torch.int64)"
      ],
      "metadata": {
        "colab": {
          "base_uri": "https://localhost:8080/"
        },
        "id": "j_AM8NtETLck",
        "outputId": "e327a691-81da-459d-cc7c-b963528f0a5f"
      },
      "execution_count": 9,
      "outputs": [
        {
          "output_type": "stream",
          "name": "stderr",
          "text": [
            "<ipython-input-9-6b9cfaed9d67>:16: UserWarning: Creating a tensor from a list of numpy.ndarrays is extremely slow. Please consider converting the list to a single numpy.ndarray with numpy.array() before converting to a tensor. (Triggered internally at ../torch/csrc/utils/tensor_new.cpp:245.)\n",
            "  input_batch=torch.tensor(input_batch, dtype=torch.float32, requires_grad=True)\n"
          ]
        }
      ]
    },
    {
      "cell_type": "code",
      "source": [
        "class TextRNN(nn.Module):\n",
        "  def __init__(self):\n",
        "    super(TextRNN, self).__init__()\n",
        "\n",
        "    self.rnn=nn.RNN(input_size=n_class, hidden_size=n_hidden, dropout=0.3)\n",
        "    self.W=nn.Parameter(torch.randn([n_hidden, n_class]).type(dtype))\n",
        "    self.b=nn.Parameter(torch.randn([n_class]).type(dtype))\n",
        "    self.Softmax=nn.Softmax(dim=1)\n",
        "\n",
        "  def forward(self, hidden, X):\n",
        "    X=X.transpose(0,1)\n",
        "    outputs, hidden=self.rnn(X, hidden)\n",
        "    outputs=outputs[-1] #최종 예측 Hidden Layer\n",
        "    model=torch.mm(outputs, self.W)+self.b  #최종 예측 최종 출력층\n",
        "    return model"
      ],
      "metadata": {
        "id": "05FrbNLoT7S4"
      },
      "execution_count": 10,
      "outputs": []
    },
    {
      "cell_type": "code",
      "source": [
        "model=TextRNN()\n",
        "criterion=nn.CrossEntropyLoss()\n",
        "optimizer=optim.Adam(model.parameters(), lr=0.01)\n",
        "\n",
        "for epoch in range(500):\n",
        "  hidden=torch.zeros(1,batch_size, n_hidden, requires_grad=True)\n",
        "  output=model(hidden, input_batch)\n",
        "  loss=criterion(output, target_batch)\n",
        "\n",
        "  if(epoch+1)%100==0:\n",
        "    print('Epoch: ', '%04d' %(epoch+1), 'cost=', '{:6f}'.format(loss))\n",
        "\n",
        "  optimizer.zero_grad()\n",
        "  loss.backward()\n",
        "  optimizer.step()"
      ],
      "metadata": {
        "colab": {
          "base_uri": "https://localhost:8080/"
        },
        "id": "7ix3JPcwUvLn",
        "outputId": "b09427bf-5af5-4ac0-92d6-acd6f10f6be1"
      },
      "execution_count": 11,
      "outputs": [
        {
          "output_type": "stream",
          "name": "stderr",
          "text": [
            "/usr/local/lib/python3.10/dist-packages/torch/nn/modules/rnn.py:71: UserWarning: dropout option adds dropout after all but last recurrent layer, so non-zero dropout expects num_layers greater than 1, but got dropout=0.3 and num_layers=1\n",
            "  warnings.warn(\"dropout option adds dropout after all but last \"\n"
          ]
        },
        {
          "output_type": "stream",
          "name": "stdout",
          "text": [
            "Epoch:  0100 cost= 0.424602\n",
            "Epoch:  0200 cost= 0.274578\n",
            "Epoch:  0300 cost= 0.248933\n",
            "Epoch:  0400 cost= 0.240989\n",
            "Epoch:  0500 cost= 0.237512\n"
          ]
        }
      ]
    },
    {
      "cell_type": "code",
      "source": [
        "input=[sen.split()[:2] for sen in sentences]\n",
        "\n",
        "hidden=torch.zeros(1, batch_size, n_hidden, requires_grad=True)\n",
        "predict=model(hidden, input_batch).data.max(1, keepdim=True)[1]\n",
        "print([sen.split()[:2] for sen in sentences], '->', [number_dict[n.item()] for n in predict.squeeze()])"
      ],
      "metadata": {
        "colab": {
          "base_uri": "https://localhost:8080/"
        },
        "id": "wDcxhS27VbkU",
        "outputId": "cefb01ef-af8b-45e0-944e-f5ba4a41b1f2"
      },
      "execution_count": 14,
      "outputs": [
        {
          "output_type": "stream",
          "name": "stdout",
          "text": [
            "[['I', 'like'], ['I', 'like'], ['I', 'hate'], ['you', 'like'], ['you', 'love'], ['you', 'hate']] -> ['dog', 'dog', 'milk', 'cat', 'milk', 'coffee']\n"
          ]
        }
      ]
    },
    {
      "cell_type": "markdown",
      "source": [
        "#LSTM\n",
        "- Long Short Term Memory\n",
        "- RNN처럼 sequential한, 축적되는 데이터에 강하다. ex)주식, 영상(사진의 축적) 등"
      ],
      "metadata": {
        "id": "xIDfpnBmWRuH"
      }
    },
    {
      "cell_type": "code",
      "source": [
        "class TextLSTM(nn.Module):\n",
        "  def __init__(self):\n",
        "    super(TextLSTM, self).__init__()\n",
        "\n",
        "    self.lstm=nn.LSTM(input_size=n_class, hidden_size=n_hidden, dropout=0.3)\n",
        "    self.W=nn.Parameter(torch.randn([n_hidden, n_class]).type(dtype))\n",
        "    self.b=nn.Parameter(torch.randn([n_class]).type(dtype))\n",
        "    self.Softmax=nn.Softmax(dim=1)\n",
        "\n",
        "  def forward(self, hidden_and_cell, X):\n",
        "    X=X.transpose(0,1)\n",
        "    outputs, hidden=self.lstm(X, hidden_and_cell)\n",
        "    outputs=outputs[-1] #최종예측 hidden layer\n",
        "    model=torch.mm(outputs, self.W)+self.b  #최종예측 최종 출력층\n",
        "    return model"
      ],
      "metadata": {
        "id": "oRkRzJVkWT6_"
      },
      "execution_count": 16,
      "outputs": []
    },
    {
      "cell_type": "code",
      "source": [
        "model=TextLSTM()\n",
        "criterion=nn.CrossEntropyLoss()\n",
        "optimizer=optim.Adam(model.parameters(), lr=0.01)\n",
        "\n",
        "for epoch in range(500):\n",
        "  hidden=torch.zeros(1,batch_size, n_hidden, requires_grad=True)\n",
        "  cell=torch.zeros(1,batch_size, n_hidden, requires_grad=True)\n",
        "  output=model((hidden, cell), input_batch)\n",
        "  loss=criterion(output, target_batch)\n",
        "\n",
        "  if(epoch+1)%100==0:\n",
        "    print('Epoch: ', '%04d' %(epoch+1), 'cost=', '{:6f}'.format(loss))\n",
        "\n",
        "  optimizer.zero_grad()\n",
        "  loss.backward()\n",
        "  optimizer.step()"
      ],
      "metadata": {
        "colab": {
          "base_uri": "https://localhost:8080/"
        },
        "id": "CmTX2rjOX8Mm",
        "outputId": "8c63e1c6-c27c-4241-e2b2-c8758c8d48a0"
      },
      "execution_count": 18,
      "outputs": [
        {
          "output_type": "stream",
          "name": "stderr",
          "text": [
            "/usr/local/lib/python3.10/dist-packages/torch/nn/modules/rnn.py:71: UserWarning: dropout option adds dropout after all but last recurrent layer, so non-zero dropout expects num_layers greater than 1, but got dropout=0.3 and num_layers=1\n",
            "  warnings.warn(\"dropout option adds dropout after all but last \"\n"
          ]
        },
        {
          "output_type": "stream",
          "name": "stdout",
          "text": [
            "Epoch:  0100 cost= 0.630356\n",
            "Epoch:  0200 cost= 0.285036\n",
            "Epoch:  0300 cost= 0.242785\n",
            "Epoch:  0400 cost= 0.237446\n",
            "Epoch:  0500 cost= 0.235359\n"
          ]
        }
      ]
    },
    {
      "cell_type": "code",
      "source": [
        "input=[sen.split()[:2] for sen in sentences]\n",
        "\n",
        "hidden=torch.zeros(1, batch_size, n_hidden, requires_grad=True)\n",
        "cell=torch.zeros(1,batch_size, n_hidden, requires_grad=True)\n",
        "predict=model((hidden, cell), input_batch).data.max(1, keepdim=True)[1]\n",
        "print([sen.split()[:2] for sen in sentences], '->', [number_dict[n.item()] for n in predict.squeeze()])"
      ],
      "metadata": {
        "colab": {
          "base_uri": "https://localhost:8080/"
        },
        "id": "OVaoL-C-cMX8",
        "outputId": "51431034-9997-4b23-d7e6-3746139633fc"
      },
      "execution_count": 21,
      "outputs": [
        {
          "output_type": "stream",
          "name": "stdout",
          "text": [
            "[['I', 'like'], ['I', 'like'], ['I', 'hate'], ['you', 'like'], ['you', 'love'], ['you', 'hate']] -> ['coffee', 'coffee', 'milk', 'cat', 'milk', 'coffee']\n"
          ]
        }
      ]
    },
    {
      "cell_type": "markdown",
      "source": [
        "#GRU\n",
        "- Gated Recurrent Unit\n",
        "- LSTM도 RNN처럼 노드를 잊어버리는 문제를 해결하지 못함."
      ],
      "metadata": {
        "id": "fe2y2Ot1eJAt"
      }
    },
    {
      "cell_type": "code",
      "source": [
        "class TextGRU(nn.Module):\n",
        "  def __init__(self):\n",
        "    super(TextGRU, self).__init__()\n",
        "\n",
        "    self.gru=nn.GRU(input_size=n_class, hidden_size=n_hidden, dropout=0.3)\n",
        "    self.W=nn.Parameter(torch.randn([n_hidden, n_class]).type(dtype))\n",
        "    self.b=nn.Parameter(torch.randn([n_class]).type(dtype))\n",
        "    self.Softmax=nn.Softmax(dim=1)\n",
        "\n",
        "  def forward(self, hidden_and_cell, X):\n",
        "    X=X.transpose(0,1)\n",
        "    outputs, hidden=self.gru(X, hidden_and_cell)\n",
        "    outputs=outputs[-1] #최종예측 hidden layer\n",
        "    model=torch.mm(outputs, self.W)+self.b  #최종예측 최종 출력층\n",
        "    return model"
      ],
      "metadata": {
        "id": "594aZ5VEeNCa"
      },
      "execution_count": 24,
      "outputs": []
    },
    {
      "cell_type": "code",
      "source": [
        "model=TextGRU()\n",
        "criterion=nn.CrossEntropyLoss()\n",
        "optimizer=optim.Adam(model.parameters(), lr=0.01)\n",
        "\n",
        "for epoch in range(500):\n",
        "  hidden=torch.zeros(1,batch_size, n_hidden, requires_grad=True)\n",
        "  output=model(hidden, input_batch)\n",
        "  loss=criterion(output, target_batch)\n",
        "\n",
        "  if(epoch+1)%100==0:\n",
        "    print('Epoch: ', '%04d' %(epoch+1), 'cost=', '{:6f}'.format(loss))\n",
        "\n",
        "  optimizer.zero_grad()\n",
        "  loss.backward()\n",
        "  optimizer.step()"
      ],
      "metadata": {
        "colab": {
          "base_uri": "https://localhost:8080/"
        },
        "id": "c5HNdbGagRe0",
        "outputId": "36b21785-d9f2-41e1-eeb3-74d4c0ab692d"
      },
      "execution_count": 26,
      "outputs": [
        {
          "output_type": "stream",
          "name": "stderr",
          "text": [
            "/usr/local/lib/python3.10/dist-packages/torch/nn/modules/rnn.py:71: UserWarning: dropout option adds dropout after all but last recurrent layer, so non-zero dropout expects num_layers greater than 1, but got dropout=0.3 and num_layers=1\n",
            "  warnings.warn(\"dropout option adds dropout after all but last \"\n"
          ]
        },
        {
          "output_type": "stream",
          "name": "stdout",
          "text": [
            "Epoch:  0100 cost= 0.305329\n",
            "Epoch:  0200 cost= 0.245158\n",
            "Epoch:  0300 cost= 0.237858\n",
            "Epoch:  0400 cost= 0.235256\n",
            "Epoch:  0500 cost= 0.233965\n"
          ]
        }
      ]
    },
    {
      "cell_type": "code",
      "source": [
        "input=[sen.split()[:2] for sen in sentences]\n",
        "\n",
        "hidden=torch.zeros(1, batch_size, n_hidden, requires_grad=True)\n",
        "cell=torch.zeros(1,batch_size, n_hidden, requires_grad=True)\n",
        "predict=model(hidden, input_batch).data.max(1, keepdim=True)[1]\n",
        "print([sen.split()[:2] for sen in sentences], '->', [number_dict[n.item()] for n in predict.squeeze()])"
      ],
      "metadata": {
        "colab": {
          "base_uri": "https://localhost:8080/"
        },
        "id": "43ltfXhGhUnk",
        "outputId": "3ead3078-200c-4566-9b52-d4ac1fef272c"
      },
      "execution_count": 27,
      "outputs": [
        {
          "output_type": "stream",
          "name": "stdout",
          "text": [
            "[['I', 'like'], ['I', 'like'], ['I', 'hate'], ['you', 'like'], ['you', 'love'], ['you', 'hate']] -> ['coffee', 'coffee', 'milk', 'cat', 'milk', 'coffee']\n"
          ]
        }
      ]
    }
  ]
}