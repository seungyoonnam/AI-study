{
  "nbformat": 4,
  "nbformat_minor": 0,
  "metadata": {
    "colab": {
      "provenance": [],
      "gpuType": "T4",
      "authorship_tag": "ABX9TyMNB7T+3/vTlDpgmKtanTVe",
      "include_colab_link": true
    },
    "kernelspec": {
      "name": "python3",
      "display_name": "Python 3"
    },
    "language_info": {
      "name": "python"
    },
    "accelerator": "GPU"
  },
  "cells": [
    {
      "cell_type": "markdown",
      "metadata": {
        "id": "view-in-github",
        "colab_type": "text"
      },
      "source": [
        "<a href=\"https://colab.research.google.com/github/seungyoonnam/AI-study/blob/main/ComputerVision.ipynb\" target=\"_parent\"><img src=\"https://colab.research.google.com/assets/colab-badge.svg\" alt=\"Open In Colab\"/></a>"
      ]
    },
    {
      "cell_type": "code",
      "execution_count": null,
      "metadata": {
        "colab": {
          "base_uri": "https://localhost:8080/"
        },
        "id": "Eg5TOAJZ-byP",
        "outputId": "77f13268-a2a7-4ccc-ffcf-c0bea9a128f2"
      },
      "outputs": [
        {
          "output_type": "execute_result",
          "data": {
            "text/plain": [
              "(torch.Size([2, 10]),\n",
              " tensor([[ 0.0047,  0.0047, -0.0071,  0.0473, -0.0020,  0.0382,  0.0085, -0.0356,\n",
              "           0.0088, -0.0241],\n",
              "         [ 0.0047,  0.0047, -0.0071,  0.0473, -0.0020,  0.0382,  0.0085, -0.0356,\n",
              "           0.0088, -0.0241]], grad_fn=<AddmmBackward0>))"
            ]
          },
          "metadata": {},
          "execution_count": 1
        }
      ],
      "source": [
        "import torch\n",
        "import torch.nn as nn\n",
        "\n",
        "class LeNet(nn.Module):\n",
        "  def __init__(self):\n",
        "    #MNIST는 input 이미지 크기가 32*32*1\n",
        "    #shape(b, 1, 32, 32) b:한 번에 불러오는 배치 사이즈. 1: 채널 하나(흑백. RGB는 3이다). 32,32: 사이즈\n",
        "    super().__init__()\n",
        "\n",
        "    self.conv1=nn.Sequential(\n",
        "      nn.Conv2d(in_channels=1, out_channels=6, kernel_size=5, stride=1, padding=0), #(input channel 수, output channel 수)\n",
        "      nn.ReLU(), #비선형적인 딥러닝 모델을 만들기 위해 ReLu를 쓴다. 가장 CPU를 덜 요구하는 것이 ReLu\n",
        "      nn.MaxPool2d(kernel_size=2, stride=2)\n",
        "    )\n",
        "\n",
        "    self.conv2=nn.Sequential(\n",
        "      nn.Conv2d(in_channels=6, out_channels=16, kernel_size=5, stride=1, padding=0), #앞선 convolusion 결괏값이 6채널이었으므로 conv2는 input을 6채널로 받아야한다.\n",
        "      nn.ReLU(),\n",
        "      nn.MaxPool2d(kernel_size=2, stride=2)\n",
        "    )\n",
        "\n",
        "    self.fc=nn.Sequential(\n",
        "        nn.Linear(5*5*16, 10)\n",
        "    )\n",
        "\n",
        "  def forward(self, x): #순전파: input에 따라 output을 얼마나 뱉을 것이냐를 지정.\n",
        "    x=self.conv1(x)\n",
        "    x=self.conv2(x)\n",
        "    x=torch.flatten(x,1)\n",
        "    x=self.fc(x)\n",
        "\n",
        "    return x\n",
        "\n",
        "test_image=torch.zeros((2,1,32,32))\n",
        "model=LeNet()\n",
        "result=model(test_image)\n",
        "\n",
        "result.shape, result"
      ]
    },
    {
      "cell_type": "code",
      "source": [
        "import torchvision\n",
        "import torchvision.transforms as transforms\n",
        "\n",
        "transform=transforms.Compose([\n",
        "    transforms.Resize((32,32)),\n",
        "    transforms.ToTensor(),\n",
        "])\n",
        "\n",
        "trainset=torchvision.datasets.MNIST(root='./data', train=True, download=True, transform=transform)\n",
        "trainloader=torch.utils.data.DataLoader(trainset, batch_size=4, shuffle=True, num_workers=0)\n"
      ],
      "metadata": {
        "colab": {
          "base_uri": "https://localhost:8080/"
        },
        "id": "t5tpjuk1Ihor",
        "outputId": "adeb435b-55d4-4a89-8b4f-fde5670d3fa1"
      },
      "execution_count": null,
      "outputs": [
        {
          "output_type": "stream",
          "name": "stdout",
          "text": [
            "Downloading http://yann.lecun.com/exdb/mnist/train-images-idx3-ubyte.gz\n",
            "Downloading http://yann.lecun.com/exdb/mnist/train-images-idx3-ubyte.gz to ./data/MNIST/raw/train-images-idx3-ubyte.gz\n"
          ]
        },
        {
          "output_type": "stream",
          "name": "stderr",
          "text": [
            "100%|██████████| 9912422/9912422 [00:00<00:00, 87025629.46it/s]\n"
          ]
        },
        {
          "output_type": "stream",
          "name": "stdout",
          "text": [
            "Extracting ./data/MNIST/raw/train-images-idx3-ubyte.gz to ./data/MNIST/raw\n",
            "\n",
            "Downloading http://yann.lecun.com/exdb/mnist/train-labels-idx1-ubyte.gz\n",
            "Downloading http://yann.lecun.com/exdb/mnist/train-labels-idx1-ubyte.gz to ./data/MNIST/raw/train-labels-idx1-ubyte.gz\n"
          ]
        },
        {
          "output_type": "stream",
          "name": "stderr",
          "text": [
            "100%|██████████| 28881/28881 [00:00<00:00, 18365023.32it/s]\n"
          ]
        },
        {
          "output_type": "stream",
          "name": "stdout",
          "text": [
            "Extracting ./data/MNIST/raw/train-labels-idx1-ubyte.gz to ./data/MNIST/raw\n",
            "\n",
            "Downloading http://yann.lecun.com/exdb/mnist/t10k-images-idx3-ubyte.gz\n",
            "Downloading http://yann.lecun.com/exdb/mnist/t10k-images-idx3-ubyte.gz to ./data/MNIST/raw/t10k-images-idx3-ubyte.gz\n"
          ]
        },
        {
          "output_type": "stream",
          "name": "stderr",
          "text": [
            "100%|██████████| 1648877/1648877 [00:00<00:00, 32040562.79it/s]\n"
          ]
        },
        {
          "output_type": "stream",
          "name": "stdout",
          "text": [
            "Extracting ./data/MNIST/raw/t10k-images-idx3-ubyte.gz to ./data/MNIST/raw\n",
            "\n",
            "Downloading http://yann.lecun.com/exdb/mnist/t10k-labels-idx1-ubyte.gz\n",
            "Downloading http://yann.lecun.com/exdb/mnist/t10k-labels-idx1-ubyte.gz to ./data/MNIST/raw/t10k-labels-idx1-ubyte.gz\n"
          ]
        },
        {
          "output_type": "stream",
          "name": "stderr",
          "text": [
            "100%|██████████| 4542/4542 [00:00<00:00, 21073593.77it/s]\n"
          ]
        },
        {
          "output_type": "stream",
          "name": "stdout",
          "text": [
            "Extracting ./data/MNIST/raw/t10k-labels-idx1-ubyte.gz to ./data/MNIST/raw\n",
            "\n"
          ]
        }
      ]
    },
    {
      "cell_type": "code",
      "source": [
        "from tqdm import tqdm\n",
        "\n",
        "device='cuda'\n",
        "model=LeNet()\n",
        "model=model.to(device)\n",
        "criterion=nn.CrossEntropyLoss()\n",
        "optimizer=torch.optim.SGD(model.parameters(), lr=1e-3, momentum=0.9)\n",
        "\n",
        "for epoch in range(10):\n",
        "  loss_list=[]\n",
        "  for images, labels in trainloader:\n",
        "    images=images.to(device) #이미지를 GPU로 옮겨준다\n",
        "    labels=labels.to(device) #라벨도 GPU로 옮겨준다.\n",
        "\n",
        "    optimizer.zero_grad() #기존의 옵티마이저값을 없애고 0으로 초기화한다.\n",
        "\n",
        "\n",
        "    outputs=model(images)  #순전파 결과값을 output에 저장\n",
        "    loss=criterion(outputs, labels)\n",
        "    loss.backward() #역전파\n",
        "    optimizer.step()\n",
        "\n",
        "    loss_list.append(loss.item())\n",
        "\n",
        "  print(f\"Train Loss is (sum(loss_list)/len(loss_list))\")\n",
        "print(\"Finished Training\")"
      ],
      "metadata": {
        "colab": {
          "base_uri": "https://localhost:8080/"
        },
        "id": "ujKMEX_4KU2t",
        "outputId": "155f3557-5cd8-419d-c6c1-9570e748f7dd"
      },
      "execution_count": null,
      "outputs": [
        {
          "output_type": "stream",
          "name": "stdout",
          "text": [
            "Train Loss is (sum(loss_list)/len(loss_list))\n",
            "Train Loss is (sum(loss_list)/len(loss_list))\n",
            "Train Loss is (sum(loss_list)/len(loss_list))\n",
            "Train Loss is (sum(loss_list)/len(loss_list))\n",
            "Train Loss is (sum(loss_list)/len(loss_list))\n",
            "Train Loss is (sum(loss_list)/len(loss_list))\n",
            "Train Loss is (sum(loss_list)/len(loss_list))\n",
            "Train Loss is (sum(loss_list)/len(loss_list))\n",
            "Train Loss is (sum(loss_list)/len(loss_list))\n",
            "Train Loss is (sum(loss_list)/len(loss_list))\n",
            "Finished Training\n"
          ]
        }
      ]
    }
  ]
}